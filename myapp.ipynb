{
 "cells": [
  {
   "cell_type": "code",
   "execution_count": 1,
   "metadata": {},
   "outputs": [
    {
     "data": {
      "text/plain": [
       "True"
      ]
     },
     "execution_count": 1,
     "metadata": {},
     "output_type": "execute_result"
    }
   ],
   "source": [
    "from dotenv import load_dotenv\n",
    "load_dotenv()"
   ]
  },
  {
   "cell_type": "code",
   "execution_count": 2,
   "metadata": {},
   "outputs": [
    {
     "data": {
      "text/plain": [
       "{'product': 'colorful socks', 'text': '\\n\\nSocktastic!'}"
      ]
     },
     "execution_count": 2,
     "metadata": {},
     "output_type": "execute_result"
    }
   ],
   "source": [
    "from main import chain_from_file\n",
    "\n",
    "mychain = chain_from_file(\"app.json\")\n",
    "mychain(\"colorful socks\")"
   ]
  },
  {
   "cell_type": "code",
   "execution_count": 3,
   "metadata": {},
   "outputs": [
    {
     "name": "stdout",
     "output_type": "stream",
     "text": [
      "\n",
      "\n",
      "\u001b[1m> Entering new  chain...\u001b[0m\n",
      "\u001b[36;1m\u001b[1;3m\n",
      "\n",
      "Tragedy at Sunset on the Beach is a story of love, loss, and redemption. It follows the story of two young lovers, Jack and Jill, who meet on a beach at sunset. They quickly fall in love and plan to marry, but their plans are shattered when Jack is tragically killed in a car accident. Jill is left devastated and struggles to cope with her grief. \n",
      "\n",
      "The play follows Jill as she attempts to come to terms with her loss and find a way to move on with her life. Along the way, she meets a mysterious stranger who helps her to find the strength to carry on. In the end, Jill finds a way to honor Jack's memory and find peace in her life. \n",
      "\n",
      "The play is a powerful exploration of grief, love, and the power of redemption. It is a story of hope and healing, and a reminder that even in the darkest of times, there is always a way forward.\u001b[0m\n",
      "\u001b[33;1m\u001b[1;3m\n",
      "\n",
      "Tragedy at Sunset on the Beach is a powerful and moving exploration of grief, love, and redemption. The story follows two young lovers, Jack and Jill, whose plans for a future together are tragically cut short when Jack is killed in a car accident. The play follows Jill as she struggles to cope with her grief and find a way to move on with her life. \n",
      "\n",
      "The play is beautifully written and the performances are outstanding. The actors bring a depth of emotion to their characters that is both heartbreaking and inspiring. The story is a reminder that even in the darkest of times, there is always a way forward. \n",
      "\n",
      "Tragedy at Sunset on the Beach is a powerful and moving story that will stay with you long after the curtain falls. It is a reminder that love and hope can still be found in the darkest of times. Highly recommended.\u001b[0m\n",
      "\n",
      "\u001b[1m> Finished chain.\u001b[0m\n"
     ]
    },
    {
     "data": {
      "text/plain": [
       "{'input': 'Tragedy at sunset on the beach',\n",
       " 'output': '\\n\\nTragedy at Sunset on the Beach is a powerful and moving exploration of grief, love, and redemption. The story follows two young lovers, Jack and Jill, whose plans for a future together are tragically cut short when Jack is killed in a car accident. The play follows Jill as she struggles to cope with her grief and find a way to move on with her life. \\n\\nThe play is beautifully written and the performances are outstanding. The actors bring a depth of emotion to their characters that is both heartbreaking and inspiring. The story is a reminder that even in the darkest of times, there is always a way forward. \\n\\nTragedy at Sunset on the Beach is a powerful and moving story that will stay with you long after the curtain falls. It is a reminder that love and hope can still be found in the darkest of times. Highly recommended.'}"
      ]
     },
     "execution_count": 3,
     "metadata": {},
     "output_type": "execute_result"
    }
   ],
   "source": [
    "from main import chain_from_file\n",
    "\n",
    "sschain = chain_from_file(\"simple_seq_chain.json\")\n",
    "sschain(\"Tragedy at sunset on the beach\")"
   ]
  }
 ],
 "metadata": {
  "kernelspec": {
   "display_name": "langchain",
   "language": "python",
   "name": "python3"
  },
  "language_info": {
   "codemirror_mode": {
    "name": "ipython",
    "version": 3
   },
   "file_extension": ".py",
   "mimetype": "text/x-python",
   "name": "python",
   "nbconvert_exporter": "python",
   "pygments_lexer": "ipython3",
   "version": "3.11.3"
  },
  "orig_nbformat": 4
 },
 "nbformat": 4,
 "nbformat_minor": 2
}
