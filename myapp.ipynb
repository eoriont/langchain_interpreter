{
 "cells": [
  {
   "cell_type": "code",
   "execution_count": 1,
   "metadata": {},
   "outputs": [
    {
     "data": {
      "text/plain": [
       "True"
      ]
     },
     "execution_count": 1,
     "metadata": {},
     "output_type": "execute_result"
    }
   ],
   "source": [
    "from dotenv import load_dotenv\n",
    "load_dotenv()"
   ]
  },
  {
   "cell_type": "code",
   "execution_count": 2,
   "metadata": {},
   "outputs": [
    {
     "data": {
      "text/plain": [
       "{'product': 'colorful socks', 'text': '\\n\\nSocktastic!'}"
      ]
     },
     "execution_count": 2,
     "metadata": {},
     "output_type": "execute_result"
    }
   ],
   "source": [
    "from main import chain_from_file\n",
    "\n",
    "mychain = chain_from_file(\"json/llmchain.json\")\n",
    "mychain(\"colorful socks\")"
   ]
  },
  {
   "cell_type": "code",
   "execution_count": 3,
   "metadata": {},
   "outputs": [
    {
     "name": "stdout",
     "output_type": "stream",
     "text": [
      "\n",
      "\n",
      "\u001b[1m> Entering new  chain...\u001b[0m\n",
      "\u001b[36;1m\u001b[1;3m\n",
      "\n",
      "Tragedy at Sunset on the Beach is a story of love, loss, and redemption. It follows the story of two young lovers, Jack and Jill, who meet on a beach at sunset. They quickly fall in love and plan to marry, but their plans are shattered when Jack is tragically killed in a car accident. Jill is left devastated and struggles to cope with her grief. \n",
      "\n",
      "The play follows Jill as she attempts to come to terms with her loss and find a way to move on with her life. Along the way, she meets a mysterious stranger who helps her to find the strength to carry on. In the end, Jill finds a way to honor Jack's memory and find peace in her life. \n",
      "\n",
      "The play is a powerful exploration of grief, love, and the power of redemption. It is a story of hope and healing, and a reminder that even in the darkest of times, there is always a way forward.\u001b[0m\n",
      "\u001b[33;1m\u001b[1;3m\n",
      "\n",
      "Tragedy at Sunset on the Beach is a powerful and moving exploration of grief, love, and redemption. The story follows two young lovers, Jack and Jill, whose plans for a future together are tragically cut short when Jack is killed in a car accident. The play follows Jill as she struggles to cope with her grief and find a way to move on with her life. \n",
      "\n",
      "The play is beautifully written and the performances are outstanding. The actors bring a depth of emotion to their characters that is both heartbreaking and inspiring. The story is a reminder that even in the darkest of times, there is always a way forward. \n",
      "\n",
      "Tragedy at Sunset on the Beach is a powerful and moving story that will stay with you long after the curtain falls. It is a reminder that love and hope can still be found in the darkest of times. Highly recommended.\u001b[0m\n",
      "\n",
      "\u001b[1m> Finished chain.\u001b[0m\n"
     ]
    },
    {
     "data": {
      "text/plain": [
       "{'input': 'Tragedy at sunset on the beach',\n",
       " 'output': '\\n\\nTragedy at Sunset on the Beach is a powerful and moving exploration of grief, love, and redemption. The story follows two young lovers, Jack and Jill, whose plans for a future together are tragically cut short when Jack is killed in a car accident. The play follows Jill as she struggles to cope with her grief and find a way to move on with her life. \\n\\nThe play is beautifully written and the performances are outstanding. The actors bring a depth of emotion to their characters that is both heartbreaking and inspiring. The story is a reminder that even in the darkest of times, there is always a way forward. \\n\\nTragedy at Sunset on the Beach is a powerful and moving story that will stay with you long after the curtain falls. It is a reminder that love and hope can still be found in the darkest of times. Highly recommended.'}"
      ]
     },
     "execution_count": 3,
     "metadata": {},
     "output_type": "execute_result"
    }
   ],
   "source": [
    "from main import chain_from_file\n",
    "\n",
    "sschain = chain_from_file(\"json/simple_seq_chain.json\")\n",
    "sschain(\"Tragedy at sunset on the beach\")"
   ]
  },
  {
   "cell_type": "code",
   "execution_count": 6,
   "metadata": {},
   "outputs": [
    {
     "name": "stdout",
     "output_type": "stream",
     "text": [
      "\n",
      "\n",
      "\u001b[1m> Entering new  chain...\u001b[0m\n",
      "\n",
      "\u001b[1m> Finished chain.\u001b[0m\n"
     ]
    },
    {
     "data": {
      "text/plain": [
       "{'title': 'Tragedy at sunset on the beach',\n",
       " 'era': 'Victorian England',\n",
       " 'synopsis': '\\n\\nTragedy at sunset on the beach is set in Victorian England and tells the story of a young couple in love. The couple, a poor fisherman and a rich heiress, are deeply in love and dream of a life together. Unfortunately, their love is forbidden by the strict class divisions of the era. When the heiress’s father discovers their relationship, he orders his daughter to end it immediately. However, the couple’s love is too strong and they decide to elope. \\n\\nOn the day of their elopement, the couple meet on a beach at sunset. But just as they are about to escape their fate, the heiress’s father and his men arrive to stop them. In a desperate effort to protect his beloved, the fisherman throws himself in front of the heiress, taking an arrow meant for her and dying in her arms. In the aftermath of his death, the heiress and her father reconcile, realizing the futility of their class divisions in the face of love.',\n",
       " 'review': '\\n\\nTragedy at Sunset on the Beach is a heartbreaking tale of forbidden love in Victorian England. The story follows a young couple whose love is barred by the harsh class divisions of the time. Despite the obstacles, the couple’s love is too strong and they decide to elope. However, their happiness is cut short when the heiress’s father and his men arrive to stop them. In a heroic act of love, the fisherman throws himself in front of the heiress, sacrificing his life for her freedom.\\n\\nThe play’s powerful message of love and sacrifice is heightened by its excellent cast and captivating set. The actors each bring a unique energy to the stage, creating an emotionally charged atmosphere. The set itself is breathtaking, with a beautiful beach backdrop that captures the sunset perfectly.\\n\\nOverall, Tragedy at Sunset on the Beach is an impressive work of theatre. With its captivating story and powerful performances, it is sure to stay with audience members long after the show has ended.'}"
      ]
     },
     "execution_count": 6,
     "metadata": {},
     "output_type": "execute_result"
    }
   ],
   "source": [
    "from main import chain_from_file\n",
    "\n",
    "seq_chain = chain_from_file(\"json/seq_chain.json\")\n",
    "seq_chain({\"title\": \"Tragedy at sunset on the beach\", \"era\": \"Victorian England\"})"
   ]
  },
  {
   "cell_type": "code",
   "execution_count": null,
   "metadata": {},
   "outputs": [],
   "source": []
  }
 ],
 "metadata": {
  "kernelspec": {
   "display_name": "langchain",
   "language": "python",
   "name": "python3"
  },
  "language_info": {
   "codemirror_mode": {
    "name": "ipython",
    "version": 3
   },
   "file_extension": ".py",
   "mimetype": "text/x-python",
   "name": "python",
   "nbconvert_exporter": "python",
   "pygments_lexer": "ipython3",
   "version": "3.11.3"
  },
  "orig_nbformat": 4
 },
 "nbformat": 4,
 "nbformat_minor": 2
}
