{
 "cells": [
  {
   "cell_type": "code",
   "execution_count": 2,
   "metadata": {},
   "outputs": [
    {
     "data": {
      "text/plain": [
       "True"
      ]
     },
     "execution_count": 2,
     "metadata": {},
     "output_type": "execute_result"
    }
   ],
   "source": [
    "import os\n",
    "from dotenv import load_dotenv\n",
    "load_dotenv()"
   ]
  },
  {
   "cell_type": "code",
   "execution_count": 3,
   "metadata": {},
   "outputs": [],
   "source": [
    "import sys\n",
    "sys.path.append(\"..\")"
   ]
  },
  {
   "cell_type": "code",
   "execution_count": 5,
   "metadata": {},
   "outputs": [],
   "source": [
    "import chromadb\n",
    "from langchain.vectorstores import Chroma\n",
    "from langchain.embeddings.openai import OpenAIEmbeddings\n"
   ]
  },
  {
   "cell_type": "code",
   "execution_count": 6,
   "metadata": {},
   "outputs": [],
   "source": [
    "from langchain.text_splitter import CharacterTextSplitter\n",
    "from langchain.document_loaders import TextLoader\n",
    "\n",
    "# load the document and split it into chunks\n",
    "loader = TextLoader(\"state_of_the_union.txt\")\n",
    "documents = loader.load()\n",
    "\n",
    "# split it into chunks\n",
    "text_splitter = CharacterTextSplitter(chunk_size=1000, chunk_overlap=0)\n",
    "docs = text_splitter.split_documents(documents)\n",
    "\n"
   ]
  },
  {
   "cell_type": "code",
   "execution_count": 25,
   "metadata": {},
   "outputs": [],
   "source": [
    "\n",
    "client_settings = chromadb.Settings(chroma_api_impl=\"rest\", chroma_server_host=\"localhost\", chroma_server_http_port=\"8000\")\n",
    "embeddings = OpenAIEmbeddings()\n",
    "db = Chroma(client_settings=client_settings, embedding_function=embeddings)"
   ]
  },
  {
   "cell_type": "code",
   "execution_count": 24,
   "metadata": {},
   "outputs": [
    {
     "data": {
      "text/plain": [
       "Collection(name=langchain_demo_col)"
      ]
     },
     "execution_count": 24,
     "metadata": {},
     "output_type": "execute_result"
    }
   ],
   "source": [
    "db._collection.get()"
   ]
  },
  {
   "cell_type": "code",
   "execution_count": 7,
   "metadata": {},
   "outputs": [
    {
     "data": {
      "text/plain": [
       "<bound method Collection.add of Collection(name=langchain_demo_col)>"
      ]
     },
     "execution_count": 7,
     "metadata": {},
     "output_type": "execute_result"
    }
   ],
   "source": [
    "db._collection.add"
   ]
  },
  {
   "cell_type": "code",
   "execution_count": 11,
   "metadata": {},
   "outputs": [],
   "source": [
    "db._client.reset()"
   ]
  },
  {
   "cell_type": "code",
   "execution_count": 26,
   "metadata": {},
   "outputs": [
    {
     "name": "stderr",
     "output_type": "stream",
     "text": [
      "  0%|          | 0/1 [00:00<?, ?it/s]"
     ]
    },
    {
     "name": "stderr",
     "output_type": "stream",
     "text": [
      "100%|██████████| 1/1 [00:00<00:00,  1.68it/s]\n"
     ]
    },
    {
     "data": {
      "text/plain": [
       "['2835cc28-1e13-11ee-87a3-00155d73e999',\n",
       " '2835ccb4-1e13-11ee-87a3-00155d73e999',\n",
       " '2835ccdc-1e13-11ee-87a3-00155d73e999',\n",
       " '2835ccf0-1e13-11ee-87a3-00155d73e999',\n",
       " '2835cd04-1e13-11ee-87a3-00155d73e999',\n",
       " '2835cd18-1e13-11ee-87a3-00155d73e999',\n",
       " '2835cd2c-1e13-11ee-87a3-00155d73e999',\n",
       " '2835cd40-1e13-11ee-87a3-00155d73e999',\n",
       " '2835cdae-1e13-11ee-87a3-00155d73e999',\n",
       " '2835cdcc-1e13-11ee-87a3-00155d73e999',\n",
       " '2835cdea-1e13-11ee-87a3-00155d73e999',\n",
       " '2835cdf4-1e13-11ee-87a3-00155d73e999',\n",
       " '2835ce08-1e13-11ee-87a3-00155d73e999',\n",
       " '2835ce1c-1e13-11ee-87a3-00155d73e999',\n",
       " '2835ce30-1e13-11ee-87a3-00155d73e999',\n",
       " '2835ce44-1e13-11ee-87a3-00155d73e999',\n",
       " '2835ce58-1e13-11ee-87a3-00155d73e999',\n",
       " '2835ce62-1e13-11ee-87a3-00155d73e999',\n",
       " '2835ce76-1e13-11ee-87a3-00155d73e999',\n",
       " '2835ce8a-1e13-11ee-87a3-00155d73e999',\n",
       " '2835ce94-1e13-11ee-87a3-00155d73e999',\n",
       " '2835cea8-1e13-11ee-87a3-00155d73e999',\n",
       " '2835cebc-1e13-11ee-87a3-00155d73e999',\n",
       " '2835ced0-1e13-11ee-87a3-00155d73e999',\n",
       " '2835ceda-1e13-11ee-87a3-00155d73e999',\n",
       " '2835ceee-1e13-11ee-87a3-00155d73e999',\n",
       " '2835cf02-1e13-11ee-87a3-00155d73e999',\n",
       " '2835cf0c-1e13-11ee-87a3-00155d73e999',\n",
       " '2835cf20-1e13-11ee-87a3-00155d73e999',\n",
       " '2835cf34-1e13-11ee-87a3-00155d73e999',\n",
       " '2835cf48-1e13-11ee-87a3-00155d73e999',\n",
       " '2835cf52-1e13-11ee-87a3-00155d73e999',\n",
       " '2835cf66-1e13-11ee-87a3-00155d73e999',\n",
       " '2835cf7a-1e13-11ee-87a3-00155d73e999',\n",
       " '2835cf84-1e13-11ee-87a3-00155d73e999',\n",
       " '2835cf98-1e13-11ee-87a3-00155d73e999',\n",
       " '2835cfac-1e13-11ee-87a3-00155d73e999',\n",
       " '2835cfb6-1e13-11ee-87a3-00155d73e999',\n",
       " '2835cfca-1e13-11ee-87a3-00155d73e999',\n",
       " '2835cfde-1e13-11ee-87a3-00155d73e999',\n",
       " '2835cfe8-1e13-11ee-87a3-00155d73e999',\n",
       " '2835cffc-1e13-11ee-87a3-00155d73e999']"
      ]
     },
     "execution_count": 26,
     "metadata": {},
     "output_type": "execute_result"
    }
   ],
   "source": [
    "db.add_documents(docs)"
   ]
  },
  {
   "cell_type": "code",
   "execution_count": 14,
   "metadata": {},
   "outputs": [
    {
     "name": "stdout",
     "output_type": "stream",
     "text": [
      "Tonight. I call on the Senate to: Pass the Freedom to Vote Act. Pass the John Lewis Voting Rights Act. And while you’re at it, pass the Disclose Act so Americans can know who is funding our elections. \n",
      "\n",
      "Tonight, I’d like to honor someone who has dedicated his life to serve this country: Justice Stephen Breyer—an Army veteran, Constitutional scholar, and retiring Justice of the United States Supreme Court. Justice Breyer, thank you for your service. \n",
      "\n",
      "One of the most serious constitutional responsibilities a President has is nominating someone to serve on the United States Supreme Court. \n",
      "\n",
      "And I did that 4 days ago, when I nominated Circuit Court of Appeals Judge Ketanji Brown Jackson. One of our nation’s top legal minds, who will continue Justice Breyer’s legacy of excellence.\n"
     ]
    }
   ],
   "source": [
    "query = \"What did the president say about Ketanji Brown Jackson\"\n",
    "docss = db.similarity_search(query)\n",
    "print(docss[0].page_content)"
   ]
  },
  {
   "cell_type": "code",
   "execution_count": 27,
   "metadata": {},
   "outputs": [],
   "source": [
    "from langchain_interpreter import chain_from_file\n",
    "\n",
    "chain = chain_from_file(\"../json/chromadb_chain.json\")"
   ]
  },
  {
   "cell_type": "code",
   "execution_count": 28,
   "metadata": {},
   "outputs": [
    {
     "data": {
      "text/plain": [
       "\" The president said that Ketanji Brown Jackson is one of the nation's top legal minds, a former top litigator in private practice, a former federal public defender, and from a family of public school educators and police officers. He also said that she is a consensus builder and has received a broad range of support from the Fraternal Order of Police to former judges appointed by Democrats and Republicans.\""
      ]
     },
     "execution_count": 28,
     "metadata": {},
     "output_type": "execute_result"
    }
   ],
   "source": [
    "\n",
    "chain.run(\"What did the president say about Ketanji Brown Jackson\")"
   ]
  },
  {
   "cell_type": "code",
   "execution_count": 29,
   "metadata": {},
   "outputs": [
    {
     "data": {
      "text/plain": [
       "' The president calls on the Senate to pass the Freedom to Vote Act, the John Lewis Voting Rights Act, and the Disclose Act.'"
      ]
     },
     "execution_count": 29,
     "metadata": {},
     "output_type": "execute_result"
    }
   ],
   "source": [
    "chain.run(\"What acts does the president call on the senate to pass tonight?\")"
   ]
  }
 ],
 "metadata": {
  "kernelspec": {
   "display_name": "lci",
   "language": "python",
   "name": "python3"
  },
  "language_info": {
   "codemirror_mode": {
    "name": "ipython",
    "version": 3
   },
   "file_extension": ".py",
   "mimetype": "text/x-python",
   "name": "python",
   "nbconvert_exporter": "python",
   "pygments_lexer": "ipython3",
   "version": "3.10.12"
  },
  "orig_nbformat": 4
 },
 "nbformat": 4,
 "nbformat_minor": 2
}
